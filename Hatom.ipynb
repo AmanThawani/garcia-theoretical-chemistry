{
 "cells": [
  {
   "cell_type": "markdown",
   "id": "c43dd52e",
   "metadata": {},
   "source": [
    "$$ \n",
    "\\begin{aligned}\n",
    "&\\frac{1}{r^2} \\frac{d}{dr} r^2 \\frac{d}{dr} f(r) \\\\\n",
    "= &\\frac{1}{r^2} \\frac{d}{dr} r^2 \\frac{df}{dr} \\\\\n",
    "= &\\frac{1}{r^2} \\left( 2 r  \\frac{df}{dr} +    r^2 \\frac{d^2f}{dr^2}    \\right) \\\\\n",
    "= &\\frac{2}{r}  \\frac{df}{dr} + \\frac{d^2f}{dr^2}\n",
    "\\end{aligned}\n",
    "$$\n",
    "$$\n",
    "\\begin{aligned}\n",
    "&\\frac{1}{r} \\frac{d^2}{dr^2} r f(r) \\\\\n",
    "= &\\frac{1}{r} \\frac{d}{dr} \\left( f +  r \\frac{df}{dr}    \\right) \\\\\n",
    "= &\\frac{1}{r} \\left( 2 \\frac{df}{dr} +  r \\frac{d^2f}{dr^2}   \\right) \\\\\n",
    "= &\\frac{2}{r} \\frac{df}{dr} + \\frac{d^2f}{dr^2}\n",
    "\\end{aligned}\n",
    "$$"
   ]
  },
  {
   "cell_type": "markdown",
   "id": "6216e13f",
   "metadata": {},
   "source": [
    "$$\n",
    "-\\frac{1}{2} \\frac{1}{r} \\frac{d^2}{dr^2} r \\psi(r) + \\frac{1}{2 r^2} l (l+1) \\psi(r) - \\frac{Z}{r} \\psi(r) = E \\psi(r)\n",
    "$$\n",
    "$$\n",
    " \\phi(r) = r \\psi(r)\n",
    " $$\n",
    " $$\n",
    "-\\frac{1}{2} \\frac{d^2}{dr^2} \\phi(r) + \\frac{1}{2 r^2} l (l+1) \\phi(r) - \\frac{Z}{r} \\phi(r) = E \\phi(r)\n",
    "$$\n",
    "$$\n",
    "-\\frac{1}{2} \\frac{d^2}{dr^2} \\phi(r) - \\frac{Z}{r} \\phi(r) = E \\phi(r)\n",
    "$$\n",
    "$$\n",
    " r \\in [0,\\infty]\n",
    "$$\n",
    "$$\n",
    "  \\psi_{0} (r) = \\exp(-Z r)\n",
    "  $$\n",
    "$$\n",
    " \\psi(r) = 10^{-10} \\implies r > \\log(10^{-10}) / Z \\approx 2.3 \\times 10 / Z \n",
    " $$"
   ]
  },
  {
   "cell_type": "code",
   "execution_count": 73,
   "id": "9c82b644",
   "metadata": {},
   "outputs": [],
   "source": [
    "# setting up everything we need for the matrices\n",
    "import numpy as np\n",
    "import matplotlib.pyplot as plt\n",
    "import scipy\n",
    "from scipy.special import roots_legendre, eval_legendre\n",
    "import math\n",
    "\n",
    "Z = 1\n",
    "qn_l = 0 # quantum number l\n",
    "L = math.log(10) * 10 / Z\n",
    "\n",
    "n = 50\n",
    "epsilon = 1e-6\n",
    "roots, weights = roots_legendre(n)\n",
    "P = np.array([eval_legendre(i, roots) for i in range(n+1)])\n",
    "dP = np.zeros((n+1, n))\n",
    "dP[1] = np.ones(n)\n",
    "for i in range(2,n+1):\n",
    "    dP[i] = (2*i-1) * P[i-1] + dP[i-2]"
   ]
  },
  {
   "cell_type": "code",
   "execution_count": 74,
   "id": "47763d77",
   "metadata": {},
   "outputs": [
    {
     "name": "stdout",
     "output_type": "stream",
     "text": [
      "[[23.02585093  0.          0.         ...  0.          0.\n",
      "   0.        ]\n",
      " [ 0.          7.67528364  0.         ...  0.          0.\n",
      "   0.        ]\n",
      " [ 0.          0.          4.60517019 ...  0.          0.\n",
      "   0.        ]\n",
      " ...\n",
      " [ 0.          0.          0.         ...  0.24237738  0.\n",
      "   0.        ]\n",
      " [ 0.          0.          0.         ...  0.          0.23737991\n",
      "   0.        ]\n",
      " [ 0.          0.          0.         ...  0.          0.\n",
      "   0.23258435]]\n"
     ]
    }
   ],
   "source": [
    "overlap_matrix = np.zeros((n,n))\n",
    "for l in range (n):\n",
    "    for m in range (n):\n",
    "        approx_overlap = np.dot(P[l]*P[m], weights) * L * 0.5\n",
    "        if abs(approx_overlap) < epsilon:\n",
    "            approx_overlap = 0\n",
    "        overlap_matrix[l, m] = approx_overlap\n",
    "print(overlap_matrix)\n"
   ]
  },
  {
   "cell_type": "markdown",
   "id": "9b816251",
   "metadata": {},
   "source": [
    "PE: $$\\int_{-1}^{1} P_l \\frac{Z}{\\frac{L}{2}(y + 1)} P_m \\frac{L}{2} dy$$"
   ]
  },
  {
   "cell_type": "code",
   "execution_count": 75,
   "id": "c908961a",
   "metadata": {},
   "outputs": [
    {
     "name": "stdout",
     "output_type": "stream",
     "text": [
      "[[-8.99841068  6.99841068 -5.99841068 ...  0.12248299 -0.08081633\n",
      "   0.04      ]\n",
      " [ 6.99841068 -6.99841068  5.99841068 ... -0.12248299  0.08081633\n",
      "  -0.04      ]\n",
      " [-5.99841068  5.99841068 -5.99841068 ...  0.12248299 -0.08081633\n",
      "   0.04      ]\n",
      " ...\n",
      " [ 0.12248299 -0.12248299  0.12248299 ... -0.12248299  0.08081633\n",
      "  -0.04      ]\n",
      " [-0.08081633  0.08081633 -0.08081633 ...  0.08081633 -0.08081633\n",
      "   0.04      ]\n",
      " [ 0.04       -0.04        0.04       ... -0.04        0.04\n",
      "  -0.04      ]]\n"
     ]
    }
   ],
   "source": [
    "pe_matrix = np.zeros((n, n))\n",
    "for l in range (n):\n",
    "    for m in range (n):\n",
    "        approx_pe = np.dot(P[l] * P[m] / (roots + 1), weights) * -Z\n",
    "        if abs(approx_pe) < epsilon:\n",
    "            approx_pe = 0\n",
    "        pe_matrix[l, m] = approx_pe\n",
    "print(pe_matrix)"
   ]
  },
  {
   "cell_type": "code",
   "execution_count": 76,
   "id": "96accbf8",
   "metadata": {},
   "outputs": [
    {
     "name": "stdout",
     "output_type": "stream",
     "text": [
      "[[0.00000000e+00 0.00000000e+00 0.00000000e+00 ... 0.00000000e+00\n",
      "  0.00000000e+00 0.00000000e+00]\n",
      " [0.00000000e+00 8.68588964e-02 0.00000000e+00 ... 8.68588964e-02\n",
      "  0.00000000e+00 8.68588964e-02]\n",
      " [0.00000000e+00 0.00000000e+00 2.60576689e-01 ... 0.00000000e+00\n",
      "  2.60576689e-01 0.00000000e+00]\n",
      " ...\n",
      " [0.00000000e+00 8.68588964e-02 0.00000000e+00 ... 9.79768351e+01\n",
      "  0.00000000e+00 9.79768351e+01]\n",
      " [0.00000000e+00 0.00000000e+00 2.60576689e-01 ... 0.00000000e+00\n",
      "  1.02146062e+02 0.00000000e+00]\n",
      " [0.00000000e+00 8.68588964e-02 0.00000000e+00 ... 9.79768351e+01\n",
      "  0.00000000e+00 1.06402148e+02]]\n"
     ]
    }
   ],
   "source": [
    "ke_matrix = np.zeros((n, n))\n",
    "for l in range (n):\n",
    "    for m in range (n):\n",
    "        approx_ke = np.dot(dP[l] * dP[m], weights) / L\n",
    "        if abs(approx_ke) < epsilon:\n",
    "            approx_ke = 0\n",
    "        ke_matrix[l, m] = approx_ke\n",
    "print(ke_matrix)"
   ]
  },
  {
   "cell_type": "code",
   "execution_count": 77,
   "id": "5dc93f9a",
   "metadata": {},
   "outputs": [
    {
     "name": "stdout",
     "output_type": "stream",
     "text": [
      "[[0. 0. 0. ... 0. 0. 0.]\n",
      " [0. 0. 0. ... 0. 0. 0.]\n",
      " [0. 0. 0. ... 0. 0. 0.]\n",
      " ...\n",
      " [0. 0. 0. ... 0. 0. 0.]\n",
      " [0. 0. 0. ... 0. 0. 0.]\n",
      " [0. 0. 0. ... 0. 0. 0.]]\n"
     ]
    }
   ],
   "source": [
    "angular_ke_matrix = np.zeros((n, n))\n",
    "for l in range (n):\n",
    "    for m in range (n):\n",
    "        approx = np.dot(P[l] * P[m] / (1 + roots)**2, weights) * qn_l * (qn_l + 1) / L\n",
    "        if abs(approx) < epsilon:\n",
    "            approx = 0\n",
    "        angular_ke_matrix[l, m] = approx\n",
    "print(angular_ke_matrix)"
   ]
  },
  {
   "cell_type": "code",
   "execution_count": 78,
   "id": "bdf820ce",
   "metadata": {},
   "outputs": [
    {
     "name": "stdout",
     "output_type": "stream",
     "text": [
      "[ 4.34294481e-02 -1.07654941e-01  1.18724566e-01 -7.83959027e-02\n",
      "  1.40633078e-02  4.26417611e-02 -7.35007348e-02  7.76013945e-02\n",
      " -6.45539199e-02  4.55903067e-02 -2.83051658e-02  1.57664128e-02\n",
      " -7.98647935e-03  3.71540711e-03 -1.59949154e-03  6.41112296e-04\n",
      " -2.40471634e-04  8.47696630e-05 -2.81890099e-05  8.87152698e-06\n",
      " -2.65003480e-06  7.53290279e-07 -2.04240932e-07  5.29310855e-08\n",
      " -1.31372245e-08  3.12815551e-09 -7.15764019e-10  1.57613336e-10\n",
      " -3.34441802e-11  6.84378063e-12 -1.34891477e-12  2.53616855e-13\n",
      " -4.35231576e-14  5.66588983e-15 -2.98743443e-16  8.55171753e-16\n",
      " -2.22500604e-15  3.38975605e-15 -3.92760978e-15  3.64052199e-15\n",
      " -2.66362646e-15  1.01747111e-15  1.03481114e-15 -2.96192342e-15\n",
      "  4.48003041e-15 -5.10866900e-15  4.67789309e-15 -3.17399505e-15\n",
      "  9.32396113e-16  1.51111486e-15]\n"
     ]
    },
    {
     "data": {
      "text/plain": [
       "(0.014872513059998168, 0.014872513059998156)"
      ]
     },
     "execution_count": 78,
     "metadata": {},
     "output_type": "execute_result"
    }
   ],
   "source": [
    "#obtaining coefficients\n",
    "phi = lambda r: r * (math.e)**(-Z * r)\n",
    "c = np.zeros(n)\n",
    "for l in range(n):\n",
    "    c[l] = ((2*l+1)/2) * np.dot(phi(L * 0.5 * (roots + 1)) * P[l], weights)\n",
    "print(c)\n",
    "fit = lambda x : np.dot(eval_legendre(range(n), 2 * x/L -1), c)\n",
    "fit(6),phi(6)"
   ]
  },
  {
   "cell_type": "code",
   "execution_count": 79,
   "id": "3cf0eb43",
   "metadata": {},
   "outputs": [
    {
     "data": {
      "text/plain": [
       "[<matplotlib.lines.Line2D at 0x1c1762e17d0>,\n",
       " <matplotlib.lines.Line2D at 0x1c176336a50>]"
      ]
     },
     "execution_count": 79,
     "metadata": {},
     "output_type": "execute_result"
    },
    {
     "data": {
      "image/png": "[encoded data removed]",
      "text/plain": [
       "<Figure size 640x480 with 1 Axes>"
      ]
     },
     "metadata": {},
     "output_type": "display_data"
    }
   ],
   "source": [
    "# phi(X) plotted with fit, showing very small error\n",
    "X = np.linspace(start=0,stop=L,num=51)\n",
    "F = [fit(x) for x in X]\n",
    "plt.plot(X,F,\"r\",X,phi(X),\"b--\")"
   ]
  },
  {
   "cell_type": "code",
   "execution_count": 80,
   "id": "a1040fc4",
   "metadata": {},
   "outputs": [
    {
     "name": "stdout",
     "output_type": "stream",
     "text": [
      "0.2499999999999986 0.12499999999999258 0.0 -0.25000000000001144\n",
      "0.4999999999999731 0.0 -1.0000000000000513 -0.5000000000000782\n"
     ]
    }
   ],
   "source": [
    "# numerical overlap computation\n",
    "overlap_estimate = np.dot(c, np.dot(overlap_matrix, c))\n",
    "ke_integral = np.dot(c, np.dot(ke_matrix, c))\n",
    "angular_ke_integral = np.dot(c, np.dot(angular_ke_matrix, c))\n",
    "pe_integral = np.dot(c, np.dot(pe_matrix, c))\n",
    "\n",
    "ke_approx = ke_integral / overlap_estimate\n",
    "pe_approx = pe_integral / overlap_estimate\n",
    "angular_ke_approx = angular_ke_integral / overlap_estimate\n",
    "\n",
    "energy_approx = ke_approx + angular_ke_approx + pe_approx\n",
    "print(overlap_estimate, ke_integral, angular_ke_integral, pe_integral)\n",
    "print(ke_approx, angular_ke_approx, pe_approx, energy_approx)"
   ]
  },
  {
   "cell_type": "code",
   "execution_count": 81,
   "id": "09bbea5d",
   "metadata": {},
   "outputs": [],
   "source": [
    "def energy(c):\n",
    "    overlap_integral = np.dot(c, np.dot(overlap_matrix, c))\n",
    "    ke_integral = np.dot(c, np.dot(ke_matrix, c))\n",
    "    pe_integral = np.dot(c, np.dot(pe_matrix, c))\n",
    "#    angular_ke_integral = np.dot(c, np.dot(angular_ke_matrix, c))\n",
    "    return (ke_integral + pe_integral) / overlap_integral"
   ]
  },
  {
   "cell_type": "code",
   "execution_count": 82,
   "id": "df0f7479",
   "metadata": {},
   "outputs": [],
   "source": [
    "def gradient(c):\n",
    "    h_matrix = ke_matrix + pe_matrix # + angular_ke_matrix\n",
    "    integral = np.dot(h_matrix - energy(c) * overlap_matrix, c)\n",
    "    overlap_integral = np.dot(c, np.dot(overlap_matrix, c))\n",
    "#    print(energy(c) * overlap_matrix, overlap_integral, integral, h_matrix)\n",
    "    return 2 * integral / overlap_integral"
   ]
  },
  {
   "cell_type": "code",
   "execution_count": 83,
   "id": "21e4141a",
   "metadata": {},
   "outputs": [
    {
     "data": {
      "text/plain": [
       "array([-1.87806476e+01, -3.41475424e-01, -1.02248964e-01, -5.14551408e-02,\n",
       "       -1.91514721e-02,  4.32656753e-02,  1.29072282e-01,  2.35982122e-01,\n",
       "        3.63160039e-01,  5.10162899e-01,  6.76723277e-01,  8.62666998e-01,\n",
       "        1.06787398e+00,  1.29225750e+00,  1.53575239e+00,  1.79830797e+00,\n",
       "        2.07988363e+00,  2.38044598e+00,  2.69996693e+00,  3.03842237e+00,\n",
       "        3.39579129e+00,  3.77205503e+00,  4.16719688e+00,  4.58120225e+00,\n",
       "        5.01405792e+00,  5.46574218e+00,  5.93624286e+00,  6.42581753e+00,\n",
       "        6.93483429e+00,  7.46690521e+00,  8.02722967e+00,  8.65385072e+00,\n",
       "        9.35708987e+00,  1.02053260e+01,  1.12273142e+01,  1.24711509e+01,\n",
       "        1.41645041e+01,  1.59441173e+01,  1.88479265e+01,  2.15479047e+01,\n",
       "        2.73277810e+01,  3.13736469e+01,  4.37506719e+01,  5.08106882e+01,\n",
       "        8.57022232e+01,  9.82902826e+01,  2.34646669e+02,  2.70343178e+02,\n",
       "        2.28077232e+03,  2.47497011e+03])"
      ]
     },
     "execution_count": 83,
     "metadata": {},
     "output_type": "execute_result"
    }
   ],
   "source": [
    "# this finds all eigenstates possible... first one is ground state\n",
    "scipy.linalg.eigh(ke_matrix + pe_matrix, overlap_matrix, eigvals_only=True)"
   ]
  },
  {
   "cell_type": "code",
   "execution_count": 84,
   "id": "90d98e2b",
   "metadata": {},
   "outputs": [
    {
     "data": {
      "text/plain": [
       "array([-4.00000001,  3.99999999, -4.00000001,  3.99999999, -4.00000001,\n",
       "        3.99999999, -4.00000001,  3.99999999, -4.00000001,  3.99999999,\n",
       "       -4.00000001,  3.99999999, -4.00000001,  3.99999999, -4.00000001,\n",
       "        3.99999999, -4.00000001,  3.99999999, -4.00000001,  3.99999999,\n",
       "       -4.00000001,  3.99999999, -4.00000001,  3.99999999, -4.00000001,\n",
       "        3.99999999, -4.00000001,  3.99999999, -4.00000001,  3.99999999,\n",
       "       -4.00000001,  3.99999999, -4.00000001,  3.99999999, -4.00000001,\n",
       "        3.99999999, -4.00000001,  3.99999999, -4.00000001,  3.99999999,\n",
       "       -4.00000001,  3.99999999, -4.00000001,  3.99999999, -4.00000001,\n",
       "        3.99999999, -4.00000001,  3.99999999, -4.00000001,  3.99999999])"
      ]
     },
     "execution_count": 84,
     "metadata": {},
     "output_type": "execute_result"
    }
   ],
   "source": [
    "gradient(c)"
   ]
  },
  {
   "cell_type": "code",
   "execution_count": 85,
   "id": "dda33758",
   "metadata": {},
   "outputs": [
    {
     "name": "stdout",
     "output_type": "stream",
     "text": [
      " message: Optimization terminated successfully.\n",
      " success: True\n",
      "  status: 0\n",
      "     fun: -18.780647545715542\n",
      "       x: [ 2.267e+00 -6.693e+00 ... -1.949e+00  1.874e+00]\n",
      "     nit: 45\n",
      "     jac: [ 8.354e-06 -3.300e-06 ... -1.990e-06 -2.432e-06]\n",
      "    nfev: 136\n",
      "    njev: 136\n"
     ]
    }
   ],
   "source": [
    "np.random.seed(1000)\n",
    "c0 = np.random.random(n)\n",
    "result = scipy.optimize.minimize(energy, c0, jac=gradient, method=\"CG\")\n",
    "print(result)"
   ]
  },
  {
   "cell_type": "code",
   "execution_count": 86,
   "id": "6da2773f",
   "metadata": {},
   "outputs": [
    {
     "data": {
      "text/plain": [
       "'\\nnp.random.seed(2023)\\nc0 = np.random.random(n)\\nconjugate_gradient(energy, gradient, c0)\\n'"
      ]
     },
     "execution_count": 86,
     "metadata": {},
     "output_type": "execute_result"
    }
   ],
   "source": [
    "def conjugate_gradient(function, gradient, c0):\n",
    "    p = 1\n",
    "    epsilon = 1e-3 # threshold for error\n",
    "    position = c0\n",
    "    r = -gradient(position)\n",
    "    d = r\n",
    "    old_r = r\n",
    "\n",
    "    # calculating step size\n",
    "    def diff(f, x, h=1e-3):\n",
    "        return (f(x+h) - f(x-h)) / (2*h)\n",
    "    \n",
    "    def diff_2nd(f, x, h=1e-3):\n",
    "        return (diff(f, x+h) - diff(f, x-h)) / (2*h)\n",
    "    \n",
    "    while np.linalg.norm(r) > epsilon:\n",
    "        line_function = lambda s: function(position + s * d)\n",
    "        diff_line_function = diff(line_function, 0)\n",
    "        diff_2nd_line_function = diff_2nd(line_function, 0)\n",
    "        step_size = - diff_line_function / diff_2nd_line_function\n",
    "\n",
    "        position += step_size * d\n",
    "        old_r = r\n",
    "        r = -gradient(position)\n",
    "        beta = np.dot(r, r - old_r)/np.dot(old_r, old_r)\n",
    "        d = r + beta * d\n",
    "#        print(p, function(position), np.linalg.norm(r), step_size, diff_line_function, diff_2nd_line_function)\n",
    "        p += 1\n",
    "        \n",
    "    return position, function(position), gradient(position)\n",
    "\n",
    "'''\n",
    "np.random.seed(2023)\n",
    "c0 = np.random.random(n)\n",
    "conjugate_gradient(energy, gradient, c0)\n",
    "'''"
   ]
  },
  {
   "cell_type": "code",
   "execution_count": 87,
   "id": "13f817a9",
   "metadata": {},
   "outputs": [
    {
     "name": "stdout",
     "output_type": "stream",
     "text": [
      "7346.952545953678 74145.58529088588 0.0 -212126.11159153937\n",
      "10.092019082350197 0.0 -28.872666628065737 -18.78064754571554\n"
     ]
    }
   ],
   "source": [
    "cc = result.x\n",
    "\n",
    "overlap_estimate = np.dot(cc, np.dot(overlap_matrix, cc))\n",
    "ke_integral = np.dot(cc, np.dot(ke_matrix, cc))\n",
    "angular_ke_integral = np.dot(cc, np.dot(angular_ke_matrix, cc))\n",
    "pe_integral = np.dot(cc, np.dot(pe_matrix, cc))\n",
    "\n",
    "ke_approx = ke_integral / overlap_estimate\n",
    "pe_approx = pe_integral / overlap_estimate\n",
    "angular_ke_approx = angular_ke_integral / overlap_estimate\n",
    "\n",
    "energy_approx = ke_approx + angular_ke_approx + pe_approx\n",
    "print(overlap_estimate, ke_integral, angular_ke_integral, pe_integral)\n",
    "print(ke_approx, angular_ke_approx, pe_approx, energy_approx)"
   ]
  },
  {
   "cell_type": "code",
   "execution_count": 88,
   "id": "3c9ee827",
   "metadata": {},
   "outputs": [],
   "source": [
    "# integrated function that does all the calculations together\n",
    "def setup(n, Z=1, epsilon=1e-6):\n",
    "\n",
    "    roots, weights = roots_legendre(n)\n",
    "    P = np.array([eval_legendre(i + 1, roots) - (-1)**(i + 1) for i in range(n + 1)])\n",
    "    dP = np.zeros((n+1, n))\n",
    "    dP[1] = np.ones(n)\n",
    "    for i in range(2,n+1):\n",
    "        dP[i] = (2*i-1) * P[i-1] + dP[i-2]\n",
    "    \n",
    "    overlap_matrix = np.zeros((n,n))\n",
    "    for l in range (n):\n",
    "        for m in range (n):\n",
    "            approx_overlap = np.dot(P[l]*P[m], weights) * L * 0.5\n",
    "            if abs(approx_overlap) < epsilon:\n",
    "                approx_overlap = 0\n",
    "            overlap_matrix[l, m] = approx_overlap\n",
    "\n",
    "    pe_matrix = np.zeros((n, n))\n",
    "    for l in range (n):\n",
    "        for m in range (n):\n",
    "            approx_pe = -Z * np.dot(P[l] * P[m] / (roots + 1), weights)\n",
    "            if abs(approx_pe) < epsilon:\n",
    "                approx_pe = 0\n",
    "            pe_matrix[l, m] = approx_pe\n",
    "\n",
    "    ke_matrix = np.zeros((n, n))\n",
    "    for l in range (n):\n",
    "        for m in range (n):\n",
    "            approx_ke = np.dot(dP[l] * dP[m], weights) / L\n",
    "            if abs(approx_ke) < epsilon:\n",
    "                approx_ke = 0\n",
    "            ke_matrix[l, m] = approx_ke\n",
    "    \n",
    "    # from exact phi\n",
    "    phi = lambda r: r * (math.e)**(-Z * r)\n",
    "    c_exact = np.zeros(n)\n",
    "    for l in range(n):\n",
    "        c_exact[l] = ((2*l+1)/2) * np.dot(phi(L * 0.5 * (roots + 1)) * P[l], weights)\n",
    "    \n",
    "    def energy(c):\n",
    "        overlap_integral = np.dot(c, np.dot(overlap_matrix, c))\n",
    "        ke_integral = np.dot(c, np.dot(ke_matrix, c))\n",
    "        pe_integral = np.dot(c, np.dot(pe_matrix, c))\n",
    "        return (ke_integral + pe_integral) / overlap_integral\n",
    "\n",
    "    def gradient(c):\n",
    "        h_matrix = ke_matrix + pe_matrix\n",
    "        integral = np.dot(h_matrix - energy(c) * overlap_matrix, c)\n",
    "        overlap_integral = np.dot(c, np.dot(overlap_matrix, c))\n",
    "        return 2 * integral / overlap_integral\n",
    "\n",
    "    np.random.seed(1000)\n",
    "    c0 = np.random.random(n)\n",
    "    result = scipy.optimize.minimize(energy, c0, jac=gradient, method=\"CG\")\n",
    "\n",
    "    return energy(c_exact), result.fun"
   ]
  },
  {
   "cell_type": "code",
   "execution_count": 89,
   "id": "729a266a",
   "metadata": {},
   "outputs": [
    {
     "data": {
      "text/plain": [
       "(1468.757759395419, -0.6938898860673877)"
      ]
     },
     "execution_count": 89,
     "metadata": {},
     "output_type": "execute_result"
    }
   ],
   "source": [
    "setup(50)"
   ]
  },
  {
   "cell_type": "code",
   "execution_count": 90,
   "id": "881ede9a",
   "metadata": {},
   "outputs": [
    {
     "data": {
      "image/png": "[encoded data removed]",
      "text/plain": [
       "<Figure size 500x300 with 1 Axes>"
      ]
     },
     "metadata": {},
     "output_type": "display_data"
    }
   ],
   "source": [
    "X = []\n",
    "e_exact = []\n",
    "e_approx = []\n",
    "\n",
    "for i in range(1,17,1):\n",
    "    exact, approx = setup(i)\n",
    "    X.append(i)\n",
    "    e_exact.append(exact)\n",
    "    e_approx.append(approx)\n",
    "\n",
    "\n",
    "fig, ax1 = plt.subplots(figsize=(5, 3))\n",
    "ax1.set_xlabel(r'n')\n",
    "ax1.set_ylabel(r'E')\n",
    "\n",
    "colors = plt.cm.viridis([.5, .8])\n",
    "\n",
    "p1 = ax1.plot(X, e_exact, color=colors[0], ls='-', lw=1, label='Analytical')\n",
    "p2 = ax1.plot(X, e_approx, color=colors[1], ls='-', lw=1, label='Approximated')\n",
    "\n",
    "ax1.legend(handles=p1+p2, loc='best')\n",
    "\n",
    "plt.savefig('fig/hatom-broken.png', bbox_inches='tight', dpi=300)"
   ]
  }
 ],
 "metadata": {
  "kernelspec": {
   "display_name": "Python 3 (ipykernel)",
   "language": "python",
   "name": "python3"
  },
  "language_info": {
   "codemirror_mode": {
    "name": "ipython",
    "version": 3
   },
   "file_extension": ".py",
   "mimetype": "text/x-python",
   "name": "python",
   "nbconvert_exporter": "python",
   "pygments_lexer": "ipython3",
   "version": "3.11.5"
  }
 },
 "nbformat": 4,
 "nbformat_minor": 5
}
