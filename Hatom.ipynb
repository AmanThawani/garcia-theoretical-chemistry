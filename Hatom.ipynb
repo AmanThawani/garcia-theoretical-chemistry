{
 "cells": [
  {
   "cell_type": "markdown",
   "id": "c43dd52e",
   "metadata": {},
   "source": [
    "$$ \n",
    "\\begin{aligned}\n",
    "&\\frac{1}{r^2} \\frac{d}{dr} r^2 \\frac{d}{dr} f(r) \\\\\n",
    "= &\\frac{1}{r^2} \\frac{d}{dr} r^2 \\frac{df}{dr} \\\\\n",
    "= &\\frac{1}{r^2} \\left( 2 r  \\frac{df}{dr} +    r^2 \\frac{d^2f}{dr^2}    \\right) \\\\\n",
    "= &\\frac{2}{r}  \\frac{df}{dr} + \\frac{d^2f}{dr^2}\n",
    "\\end{aligned}\n",
    "$$\n",
    "$$\n",
    "\\begin{aligned}\n",
    "&\\frac{1}{r} \\frac{d^2}{dr^2} r f(r) \\\\\n",
    "= &\\frac{1}{r} \\frac{d}{dr} \\left( f +  r \\frac{df}{dr}    \\right) \\\\\n",
    "= &\\frac{1}{r} \\left( 2 \\frac{df}{dr} +  r \\frac{d^2f}{dr^2}   \\right) \\\\\n",
    "= &\\frac{2}{r} \\frac{df}{dr} + \\frac{d^2f}{dr^2}\n",
    "\\end{aligned}\n",
    "$$"
   ]
  },
  {
   "cell_type": "markdown",
   "id": "6216e13f",
   "metadata": {},
   "source": [
    "$$\n",
    "-\\frac{1}{2} \\frac{1}{r} \\frac{d^2}{dr^2} r \\psi(r) + \\frac{1}{2 r^2} l (l+1) \\psi(r) - \\frac{Z}{r} \\psi(r) = E \\psi(r)\n",
    "$$\n",
    "$$\n",
    " \\phi(r) = r \\psi(r)\n",
    " $$\n",
    " $$\n",
    "-\\frac{1}{2} \\frac{d^2}{dr^2} \\phi(r) + \\frac{1}{2 r^2} l (l+1) \\phi(r) - \\frac{Z}{r} \\phi(r) = E \\phi(r)\n",
    "$$\n",
    "$$\n",
    "-\\frac{1}{2} \\frac{d^2}{dr^2} \\phi(r) - \\frac{Z}{r} \\phi(r) = E \\phi(r)\n",
    "$$\n",
    "$$\n",
    " r \\in [0,\\infty]\n",
    "$$\n",
    "$$\n",
    "  \\psi_{0} (r) = \\exp(-Z r)\n",
    "  $$\n",
    "$$\n",
    " \\psi(r) = 10^{-10} \\implies r > \\log(10^{-10}) / Z \\approx 2.3 \\times 10 / Z \n",
    " $$"
   ]
  },
  {
   "cell_type": "code",
   "execution_count": 1,
   "id": "9c82b644",
   "metadata": {},
   "outputs": [],
   "source": [
    "# setting up everything we need for the matrices\n",
    "import numpy as np\n",
    "import matplotlib.pyplot as plt\n",
    "import scipy\n",
    "from scipy.special import roots_legendre, eval_legendre\n",
    "import math\n",
    "\n",
    "Z = 1\n",
    "L = math.log(10) * 10 / Z\n",
    "\n",
    "n = 50\n",
    "epsilon = 1e-6\n",
    "roots, weights = roots_legendre(n)\n",
    "P = np.array([eval_legendre(i, roots) for i in range(n+1)])\n",
    "dP = np.zeros((n+1, n))\n",
    "dP[1] = np.ones(n)\n",
    "for i in range(2,n+1):\n",
    "    dP[i] = (2*i-1) * P[i-1] + dP[i-2]"
   ]
  },
  {
   "cell_type": "code",
   "execution_count": 2,
   "id": "47763d77",
   "metadata": {},
   "outputs": [
    {
     "name": "stdout",
     "output_type": "stream",
     "text": [
      "[[2.         0.         0.         ... 0.         0.         0.        ]\n",
      " [0.         0.66666667 0.         ... 0.         0.         0.        ]\n",
      " [0.         0.         0.4        ... 0.         0.         0.        ]\n",
      " ...\n",
      " [0.         0.         0.         ... 0.02105263 0.         0.        ]\n",
      " [0.         0.         0.         ... 0.         0.02061856 0.        ]\n",
      " [0.         0.         0.         ... 0.         0.         0.02020202]]\n"
     ]
    }
   ],
   "source": [
    "overlap_matrix = np.zeros((n,n))\n",
    "for l in range (n):\n",
    "    for m in range (n):\n",
    "        approx_overlap = np.dot(P[l]*P[m], weights)\n",
    "        if abs(approx_overlap) < epsilon:\n",
    "            approx_overlap = 0\n",
    "        overlap_matrix[l, m] = approx_overlap\n",
    "print(overlap_matrix)\n"
   ]
  },
  {
   "cell_type": "code",
   "execution_count": 3,
   "id": "c908961a",
   "metadata": {},
   "outputs": [
    {
     "name": "stdout",
     "output_type": "stream",
     "text": [
      "[[ 8.99841068 -6.99841068  5.99841068 ... -0.12248299  0.08081633\n",
      "  -0.04      ]\n",
      " [-6.99841068  6.99841068 -5.99841068 ...  0.12248299 -0.08081633\n",
      "   0.04      ]\n",
      " [ 5.99841068 -5.99841068  5.99841068 ... -0.12248299  0.08081633\n",
      "  -0.04      ]\n",
      " ...\n",
      " [-0.12248299  0.12248299 -0.12248299 ...  0.12248299 -0.08081633\n",
      "   0.04      ]\n",
      " [ 0.08081633 -0.08081633  0.08081633 ... -0.08081633  0.08081633\n",
      "  -0.04      ]\n",
      " [-0.04        0.04       -0.04       ...  0.04       -0.04\n",
      "   0.04      ]]\n"
     ]
    }
   ],
   "source": [
    "pe_matrix = np.zeros((n, n))\n",
    "for l in range (n):\n",
    "    for m in range (n):\n",
    "        approx_pe = np.dot(P[l] * P[m] / (roots + 1), weights)\n",
    "        if abs(approx_pe) < epsilon:\n",
    "            approx_pe = 0\n",
    "        pe_matrix[l, m] = approx_pe\n",
    "print(pe_matrix)"
   ]
  },
  {
   "cell_type": "code",
   "execution_count": 4,
   "id": "96accbf8",
   "metadata": {},
   "outputs": [
    {
     "name": "stdout",
     "output_type": "stream",
     "text": [
      "[[0.000e+00 0.000e+00 0.000e+00 ... 0.000e+00 0.000e+00 0.000e+00]\n",
      " [0.000e+00 2.000e+00 0.000e+00 ... 2.000e+00 0.000e+00 2.000e+00]\n",
      " [0.000e+00 0.000e+00 6.000e+00 ... 0.000e+00 6.000e+00 0.000e+00]\n",
      " ...\n",
      " [0.000e+00 2.000e+00 0.000e+00 ... 2.256e+03 0.000e+00 2.256e+03]\n",
      " [0.000e+00 0.000e+00 6.000e+00 ... 0.000e+00 2.352e+03 0.000e+00]\n",
      " [0.000e+00 2.000e+00 0.000e+00 ... 2.256e+03 0.000e+00 2.450e+03]]\n"
     ]
    }
   ],
   "source": [
    "ke_matrix = np.zeros((n, n))\n",
    "for l in range (n):\n",
    "    for m in range (n):\n",
    "        approx_ke = np.dot(dP[l] * dP[m], weights)\n",
    "        if abs(approx_ke) < epsilon:\n",
    "            approx_ke = 0\n",
    "        ke_matrix[l, m] = approx_ke\n",
    "print(ke_matrix)"
   ]
  },
  {
   "cell_type": "code",
   "execution_count": 5,
   "id": "bdf820ce",
   "metadata": {},
   "outputs": [
    {
     "name": "stdout",
     "output_type": "stream",
     "text": [
      "[ 4.34294481e-02 -1.07654941e-01  1.18724566e-01 -7.83959027e-02\n",
      "  1.40633078e-02  4.26417611e-02 -7.35007348e-02  7.76013945e-02\n",
      " -6.45539199e-02  4.55903067e-02 -2.83051658e-02  1.57664128e-02\n",
      " -7.98647935e-03  3.71540711e-03 -1.59949154e-03  6.41112296e-04\n",
      " -2.40471634e-04  8.47696630e-05 -2.81890099e-05  8.87152698e-06\n",
      " -2.65003480e-06  7.53290279e-07 -2.04240932e-07  5.29310855e-08\n",
      " -1.31372245e-08  3.12815551e-09 -7.15764019e-10  1.57613336e-10\n",
      " -3.34441802e-11  6.84378063e-12 -1.34891477e-12  2.53616855e-13\n",
      " -4.35231576e-14  5.66588983e-15 -2.98743443e-16  8.55171753e-16\n",
      " -2.22500604e-15  3.38975605e-15 -3.92760978e-15  3.64052199e-15\n",
      " -2.66362646e-15  1.01747111e-15  1.03481114e-15 -2.96192342e-15\n",
      "  4.48003041e-15 -5.10866900e-15  4.67789309e-15 -3.17399505e-15\n",
      "  9.32396113e-16  1.51111486e-15]\n"
     ]
    },
    {
     "data": {
      "text/plain": [
       "(0.014872513059998168, 0.014872513059998156)"
      ]
     },
     "execution_count": 5,
     "metadata": {},
     "output_type": "execute_result"
    }
   ],
   "source": [
    "#obtaining coefficients\n",
    "phi = lambda r: r * (math.e)**(-Z * r)\n",
    "c = np.zeros(n)\n",
    "for l in range(n):\n",
    "    c[l] = ((2*l+1)/2) * np.dot(phi(L * 0.5 * (roots + 1)) * P[l], weights)\n",
    "print(c)\n",
    "fit = lambda x : np.dot(eval_legendre(range(n), 2 * x/L -1), c)\n",
    "fit(6),phi(6)"
   ]
  },
  {
   "cell_type": "code",
   "execution_count": 6,
   "id": "3cf0eb43",
   "metadata": {},
   "outputs": [
    {
     "data": {
      "text/plain": [
       "[<matplotlib.lines.Line2D at 0x2487e952c20>,\n",
       " <matplotlib.lines.Line2D at 0x2487e952c50>]"
      ]
     },
     "execution_count": 6,
     "metadata": {},
     "output_type": "execute_result"
    },
    {
     "data": {
      "image/png": "[encoded data removed]",
      "text/plain": [
       "<Figure size 640x480 with 1 Axes>"
      ]
     },
     "metadata": {},
     "output_type": "display_data"
    }
   ],
   "source": [
    "# phi(X) plotted with fit, showing very small error\n",
    "X = np.linspace(start=0,stop=L,num=51)\n",
    "F = [fit(x) for x in X]\n",
    "plt.plot(X,F,\"r\",X,phi(X),\"b--\")"
   ]
  },
  {
   "cell_type": "code",
   "execution_count": 7,
   "id": "a1040fc4",
   "metadata": {},
   "outputs": [
    {
     "name": "stdout",
     "output_type": "stream",
     "text": [
      "0.24999999999999867\n",
      "0.49999999999997297 -1.000000000000051 -0.5000000000000782\n"
     ]
    }
   ],
   "source": [
    "# numerical overlap computation\n",
    "overlap_estimate = np.dot(c, np.dot(overlap_matrix, c)) * L * 0.5\n",
    "ke_integral = np.dot(c, np.dot(ke_matrix, c)) / L\n",
    "pe_integral = np.dot(c, np.dot(pe_matrix, c)) * -Z\n",
    "ke_approx = ke_integral/overlap_estimate\n",
    "pe_approx = pe_integral/overlap_estimate\n",
    "energy_approx = ke_approx + pe_approx\n",
    "print(overlap_estimate)\n",
    "print(ke_approx, pe_approx, energy_approx)"
   ]
  }
 ],
 "metadata": {
  "kernelspec": {
   "display_name": "Python 3 (ipykernel)",
   "language": "python",
   "name": "python3"
  },
  "language_info": {
   "codemirror_mode": {
    "name": "ipython",
    "version": 3
   },
   "file_extension": ".py",
   "mimetype": "text/x-python",
   "name": "python",
   "nbconvert_exporter": "python",
   "pygments_lexer": "ipython3",
   "version": "3.10.7"
  }
 },
 "nbformat": 4,
 "nbformat_minor": 5
}
