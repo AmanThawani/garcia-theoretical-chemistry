{
 "cells": [
  {
   "cell_type": "markdown",
   "id": "c43dd52e",
   "metadata": {},
   "source": [
    "$$ \\frac{1}{r^2} \\frac{d}{dr} r^2 \\frac{d}{dr} f(r) \\\\\n",
    "= \\frac{1}{r^2} \\frac{d}{dr} r^2 \\frac{df}{dr} \\\\\n",
    "= \\frac{1}{r^2} \\left( 2 r  \\frac{df}{dr} +    r^2 \\frac{d^2f}{dr^2}    \\right) \\\\\n",
    "= \\frac{2}{r}  \\frac{df}{dr} + \\frac{d^2f}{dr^2}\n",
    "$$\n",
    "$$ \\frac{1}{r} \\frac{d^2}{dr^2} r f(r) \\\\\n",
    "= \\frac{1}{r} \\frac{d}{dr} \\left( f +  r \\frac{df}{dr}    \\right) \\\\\n",
    "= \\frac{1}{r} \\left( 2 \\frac{df}{dr} +  r \\frac{d^2f}{dr^2}   \\right) \\\\\n",
    "= \\frac{2}{r} \\frac{df}{dr} + \\frac{d^2f}{dr^2}\n",
    "$$"
   ]
  },
  {
   "cell_type": "markdown",
   "id": "6216e13f",
   "metadata": {},
   "source": [
    "$$\n",
    "-\\frac{1}{2} \\frac{1}{r} \\frac{d^2}{dr^2} r \\psi(r) + \\frac{1}{2 r^2} l (l+1) \\psi(r) - \\frac{Z}{r} \\psi(r) = E \\psi(r)\n",
    "$$\n",
    "$$\n",
    " \\phi(r) = r \\psi(r)\n",
    " $$\n",
    " $$\n",
    "-\\frac{1}{2} \\frac{d^2}{dr^2} \\phi(r) + \\frac{1}{2 r^2} l (l+1) \\phi(r) - \\frac{Z}{r} \\phi(r) = E \\phi(r)\n",
    "$$\n",
    "$$\n",
    "-\\frac{1}{2} \\frac{d^2}{dr^2} \\phi(r) - \\frac{Z}{r} \\phi(r) = E \\phi(r)\n",
    "$$\n",
    "$$\n",
    " r \\in [0,\\infty]\n",
    "$$\n",
    "$$\n",
    "  \\psi_{0} (r) = \\exp(-Z r)\n",
    "  $$\n",
    "$$\n",
    " \\psi(r) = 10^{-10} \\implies r > \\log(10^{-10}) / Z \\approx 2.3*10 / Z \n",
    " $$"
   ]
  },
  {
   "cell_type": "code",
   "execution_count": 118,
   "id": "9c82b644",
   "metadata": {},
   "outputs": [],
   "source": [
    "# setting up everything we need for the matrices\n",
    "import numpy as np\n",
    "import matplotlib.pyplot as plt\n",
    "import scipy\n",
    "from scipy.special import roots_legendre, eval_legendre\n",
    "import math\n",
    "L = 8\n",
    "Z = 1\n",
    "n = 50\n",
    "epsilon = 1e-6\n",
    "roots, weights = roots_legendre(n)\n",
    "P = np.array([eval_legendre(i, roots) for i in range(n+1)])\n",
    "dP = np.zeros((n+1, n))\n",
    "dP[1] = np.ones(n)\n",
    "for i in range(2,n+1):\n",
    "    dP[i] = (2*i-1) * P[i-1] + dP[i-2]"
   ]
  },
  {
   "cell_type": "code",
   "execution_count": 119,
   "id": "47763d77",
   "metadata": {},
   "outputs": [
    {
     "name": "stdout",
     "output_type": "stream",
     "text": [
      "[[2.         0.         0.         ... 0.         0.         0.        ]\n",
      " [0.         0.66666667 0.         ... 0.         0.         0.        ]\n",
      " [0.         0.         0.4        ... 0.         0.         0.        ]\n",
      " ...\n",
      " [0.         0.         0.         ... 0.02105263 0.         0.        ]\n",
      " [0.         0.         0.         ... 0.         0.02061856 0.        ]\n",
      " [0.         0.         0.         ... 0.         0.         0.02020202]]\n"
     ]
    }
   ],
   "source": [
    "overlap_matrix = np.zeros((n,n))\n",
    "for l in range (n):\n",
    "    for m in range (n):\n",
    "        approx_overlap = np.dot(P[l]*P[m], weights)\n",
    "        if approx_overlap < epsilon:\n",
    "            approx_overlap = 0\n",
    "        overlap_matrix[l, m] = approx_overlap\n",
    "print(overlap_matrix)\n"
   ]
  },
  {
   "cell_type": "code",
   "execution_count": 142,
   "id": "c908961a",
   "metadata": {},
   "outputs": [
    {
     "name": "stdout",
     "output_type": "stream",
     "text": [
      "[[8.99841068 0.         5.99841068 ... 0.         0.08081633 0.        ]\n",
      " [0.         6.99841068 0.         ... 0.12248299 0.         0.04      ]\n",
      " [5.99841068 0.         5.99841068 ... 0.         0.08081633 0.        ]\n",
      " ...\n",
      " [0.         0.12248299 0.         ... 0.12248299 0.         0.04      ]\n",
      " [0.08081633 0.         0.08081633 ... 0.         0.08081633 0.        ]\n",
      " [0.         0.04       0.         ... 0.04       0.         0.04      ]]\n"
     ]
    }
   ],
   "source": [
    "pe_matrix = np.zeros((n, n))\n",
    "for l in range (n):\n",
    "    for m in range (n):\n",
    "        approx_pe = np.dot(P[l] * P[m]/(1 + roots), weights)\n",
    "        if approx_pe < epsilon:\n",
    "            approx_pe = 0\n",
    "        pe_matrix[l, m] = approx_pe\n",
    "print (pe_matrix)"
   ]
  },
  {
   "cell_type": "code",
   "execution_count": 121,
   "id": "96accbf8",
   "metadata": {},
   "outputs": [
    {
     "name": "stdout",
     "output_type": "stream",
     "text": [
      "[[0.000e+00 0.000e+00 0.000e+00 ... 0.000e+00 0.000e+00 0.000e+00]\n",
      " [0.000e+00 2.000e+00 0.000e+00 ... 2.000e+00 0.000e+00 2.000e+00]\n",
      " [0.000e+00 0.000e+00 6.000e+00 ... 0.000e+00 6.000e+00 0.000e+00]\n",
      " ...\n",
      " [0.000e+00 2.000e+00 0.000e+00 ... 2.256e+03 0.000e+00 2.256e+03]\n",
      " [0.000e+00 0.000e+00 6.000e+00 ... 0.000e+00 2.352e+03 0.000e+00]\n",
      " [0.000e+00 2.000e+00 0.000e+00 ... 2.256e+03 0.000e+00 2.450e+03]]\n"
     ]
    }
   ],
   "source": [
    "ke_matrix = np.zeros((n, n))\n",
    "for l in range (n):\n",
    "    for m in range (n):\n",
    "        approx_ke = np.dot(dP[l] * dP[m], weights)\n",
    "        if approx_ke < epsilon:\n",
    "            approx_ke = 0\n",
    "        ke_matrix[l, m] = approx_ke\n",
    "print (ke_matrix)"
   ]
  },
  {
   "cell_type": "code",
   "execution_count": 122,
   "id": "bdf820ce",
   "metadata": {},
   "outputs": [
    {
     "name": "stdout",
     "output_type": "stream",
     "text": [
      "[ 1.24622605e-01 -1.88946683e-01  3.51706094e-02  9.84777062e-02\n",
      " -1.17445469e-01  7.68800952e-02 -3.64130203e-02  1.37071337e-02\n",
      " -4.30532749e-03  1.16314301e-03 -2.76047212e-04  5.84576323e-05\n",
      " -1.11805946e-05  1.95013634e-06 -3.12678246e-07  4.63933577e-08\n",
      " -6.40618043e-09  8.27269672e-10 -1.00336176e-10  1.14753736e-11\n",
      " -1.24556859e-12  1.31007645e-13 -1.58293941e-14  3.05898283e-15\n",
      " -1.44805449e-15 -3.56605106e-16  1.07603423e-15 -2.53700132e-15\n",
      "  3.16437702e-15 -3.96236338e-15  3.54232397e-15 -2.89996298e-15\n",
      "  1.33399325e-15 -5.82338328e-16 -1.30537518e-16 -1.81109620e-16\n",
      " -4.19740613e-16  1.58205638e-15 -3.46657360e-15  3.36637342e-15\n",
      " -2.50728889e-15  4.86923666e-16  9.25441728e-16 -2.15182092e-15\n",
      "  2.70961541e-15 -3.55087318e-15  4.07331823e-15 -3.58937146e-15\n",
      "  1.36372042e-15  2.22144671e-15]\n"
     ]
    },
    {
     "data": {
      "text/plain": [
       "(0.014872513059998392, 0.014872513059998156)"
      ]
     },
     "execution_count": 122,
     "metadata": {},
     "output_type": "execute_result"
    }
   ],
   "source": [
    "#obtaining coefficients\n",
    "phi = lambda r: r * (math.e)**(-Z * r)\n",
    "c = np.zeros(n)\n",
    "for l in range(n):\n",
    "    Pl = eval_legendre(l,roots)\n",
    "    c[l] = ((2*l+1)/2)*np.dot(phi(L * 0.5 * (roots + 1))*Pl,weights)\n",
    "print (c)\n",
    "fit = lambda x : np.dot(eval_legendre(range(n),2 * x/L -1),c)\n",
    "fit(6),phi(6)"
   ]
  },
  {
   "cell_type": "code",
   "execution_count": 123,
   "id": "3cf0eb43",
   "metadata": {},
   "outputs": [
    {
     "data": {
      "text/plain": [
       "[<matplotlib.lines.Line2D at 0x18586a14bd0>,\n",
       " <matplotlib.lines.Line2D at 0x18586a6ed10>]"
      ]
     },
     "execution_count": 123,
     "metadata": {},
     "output_type": "execute_result"
    },
    {
     "data": {
      "image/png": "[encoded data removed]",
      "text/plain": [
       "<Figure size 640x480 with 1 Axes>"
      ]
     },
     "metadata": {},
     "output_type": "display_data"
    }
   ],
   "source": [
    "# phi(X) plotted with fit, showing very small error\n",
    "X = np.linspace(start=0,stop=L,num=51)\n",
    "F = [fit(x) for x in X]\n",
    "plt.plot(X,F,\"r\",X,phi(X),\"b--\")"
   ]
  },
  {
   "cell_type": "code",
   "execution_count": 143,
   "id": "a1040fc4",
   "metadata": {},
   "outputs": [
    {
     "name": "stdout",
     "output_type": "stream",
     "text": [
      "0.24999592059991615\n",
      "0.5000018005921485 -0.578851524410967 -0.0788497238188185\n"
     ]
    }
   ],
   "source": [
    "# numerical overlap computation\n",
    "overlap_estimate = np.dot(c, np.dot(overlap_matrix, c)) * L * 0.5\n",
    "ke_integral = np.dot(c, np.dot(ke_matrix, c)) / L\n",
    "pe_integral = np.dot(c, np.dot(pe_matrix, c)) * -Z\n",
    "ke_approx = ke_integral/overlap_estimate\n",
    "pe_approx = pe_integral/overlap_estimate\n",
    "energy_approx = ke_approx + pe_approx\n",
    "print(overlap_estimate)\n",
    "print(ke_approx, pe_approx, energy_approx)"
   ]
  },
  {
   "cell_type": "code",
   "execution_count": null,
   "id": "e7a0624c",
   "metadata": {},
   "outputs": [],
   "source": []
  },
  {
   "cell_type": "code",
   "execution_count": null,
   "metadata": {},
   "outputs": [],
   "source": []
  }
 ],
 "metadata": {
  "kernelspec": {
   "display_name": "Python 3 (ipykernel)",
   "language": "python",
   "name": "python3"
  },
  "language_info": {
   "codemirror_mode": {
    "name": "ipython",
    "version": 3
   },
   "file_extension": ".py",
   "mimetype": "text/x-python",
   "name": "python",
   "nbconvert_exporter": "python",
   "pygments_lexer": "ipython3",
   "version": "3.11.4"
  }
 },
 "nbformat": 4,
 "nbformat_minor": 5
}
