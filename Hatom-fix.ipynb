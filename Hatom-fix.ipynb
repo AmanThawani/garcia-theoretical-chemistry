{
 "cells": [
  {
   "cell_type": "markdown",
   "id": "c43dd52e",
   "metadata": {},
   "source": [
    "$$ \n",
    "\\begin{aligned}\n",
    "&\\frac{1}{r^2} \\frac{d}{dr} r^2 \\frac{d}{dr} f(r) \\\\\n",
    "= &\\frac{1}{r^2} \\frac{d}{dr} r^2 \\frac{df}{dr} \\\\\n",
    "= &\\frac{1}{r^2} \\left( 2 r  \\frac{df}{dr} +    r^2 \\frac{d^2f}{dr^2}    \\right) \\\\\n",
    "= &\\frac{2}{r}  \\frac{df}{dr} + \\frac{d^2f}{dr^2}\n",
    "\\end{aligned}\n",
    "$$\n",
    "$$\n",
    "\\begin{aligned}\n",
    "&\\frac{1}{r} \\frac{d^2}{dr^2} r f(r) \\\\\n",
    "= &\\frac{1}{r} \\frac{d}{dr} \\left( f +  r \\frac{df}{dr}    \\right) \\\\\n",
    "= &\\frac{1}{r} \\left( 2 \\frac{df}{dr} +  r \\frac{d^2f}{dr^2}   \\right) \\\\\n",
    "= &\\frac{2}{r} \\frac{df}{dr} + \\frac{d^2f}{dr^2}\n",
    "\\end{aligned}\n",
    "$$"
   ]
  },
  {
   "cell_type": "markdown",
   "id": "6216e13f",
   "metadata": {},
   "source": [
    "$$\n",
    "-\\frac{1}{2} \\frac{1}{r} \\frac{d^2}{dr^2} r \\psi(r) + \\frac{1}{2 r^2} l (l+1) \\psi(r) - \\frac{Z}{r} \\psi(r) = E \\psi(r)\n",
    "$$\n",
    "$$\n",
    " \\phi(r) = r \\psi(r)\n",
    " $$\n",
    " $$\n",
    "-\\frac{1}{2} \\frac{d^2}{dr^2} \\phi(r) + \\frac{1}{2 r^2} l (l+1) \\phi(r) - \\frac{Z}{r} \\phi(r) = E \\phi(r)\n",
    "$$\n",
    "$$\n",
    "-\\frac{1}{2} \\frac{d^2}{dr^2} \\phi(r) - \\frac{Z}{r} \\phi(r) = E \\phi(r)\n",
    "$$\n",
    "$$\n",
    " r \\in [0,\\infty]\n",
    "$$\n",
    "$$\n",
    "  \\psi_{0} (r) = \\exp(-Z r)\n",
    "  $$\n",
    "$$\n",
    " \\psi(r) = 10^{-10} \\implies r > \\log(10^{-10}) / Z \\approx 2.3 \\times 10 / Z \n",
    " $$"
   ]
  },
  {
   "cell_type": "markdown",
   "id": "f629da00",
   "metadata": {},
   "source": [
    "### Fix proposed by Dr. Harrison\n",
    "But I believe the problem to be that we are not enforcing the boundary condition $\\phi(0)=0$.  We are assuming this in how we compute the kinetic energy and it is physically very important—the wave function ($\\psi$) should be finite at the origin and hence $\\phi=r\\psi$ must be zero.  This is because the potential is infinite at the origin.\n",
    "\n",
    "The behaviour is different to the harmonic oscillator, since there we were solving in a box $[-L,L]$ and the potential $x^2 / 2$ is large and positive at the ends of this range. Thus the wavefunction will be small since the particle in its ground state naturally avoids the high energy regions.  However, for the H-atom, we are using $[0,L]$ as the box and at zero the potential is large and negative—the particle wants to be there! I suspect we can get away with not enforcing the boundary condition that $\\psi(L)=0$ since the potential is large there, relative to near the origin.  However, I've been wrong before!!\n",
    "\n",
    "Thus, the fix is easy. We drop the constant basis function $P(x,0)=1$ and subtract a multiple of it from the other polynomials.  \n",
    "\n",
    "Thus, our basis functions $b_i(x)$ become\n",
    "\n",
    "$$\n",
    "b_i(x) = P(x,i+1) - (-1)^i   \\quad \\text{for }i=0,1,2,...\n",
    "$$\n",
    "\n",
    "The following I have not thought thru much, but I think is correct\n",
    "\n",
    "Since $\\langle P(i) | P(0) \\rangle = 0$ for $i>0$ (noting $P(x,0)=1$) I think the basis is still orthonormal, though the diagonal elements will change (add one to them all, I think).\n",
    "\n",
    "Since $\\frac{d}{dx} P(x,0)$ is zero, the kinetic energy matrix should be unchanged.\n",
    "\n",
    "The potential energy matrix will change.\n"
   ]
  },
  {
   "cell_type": "code",
   "execution_count": 1,
   "id": "9c82b644",
   "metadata": {},
   "outputs": [],
   "source": [
    "# setting up everything we need for the matrices\n",
    "import numpy as np\n",
    "import matplotlib.pyplot as plt\n",
    "import scipy\n",
    "from scipy.special import roots_legendre, eval_legendre\n",
    "import math\n",
    "\n",
    "Z = 1\n",
    "qn_l = 0 # quantum number l\n",
    "L = math.log(10) * 10 / Z\n",
    "\n",
    "n = 50\n",
    "epsilon = 1e-6\n",
    "roots, weights = roots_legendre(n)\n",
    "\n",
    "P = np.array([eval_legendre(i, roots) for i in range(n+1)])\n",
    "\n",
    "dP = np.zeros((n+1, n))\n",
    "dP[1] = np.ones(n)\n",
    "for i in range(2,n+1):\n",
    "    dP[i] = (2*i-1) * P[i-1] + dP[i-2]"
   ]
  },
  {
   "cell_type": "code",
   "execution_count": 2,
   "id": "730a1ae0",
   "metadata": {},
   "outputs": [],
   "source": [
    "# new basis\n",
    "b = lambda i: P[i+1] - (-1)**(i+1)\n",
    "db = lambda i: dP[i+1]"
   ]
  },
  {
   "cell_type": "markdown",
   "id": "24dd4e2d",
   "metadata": {},
   "source": [
    "The size of the matrices will now be one less in each dimension, because we have one less Legendre polynomial. "
   ]
  },
  {
   "cell_type": "code",
   "execution_count": 3,
   "id": "47763d77",
   "metadata": {},
   "outputs": [
    {
     "name": "stdout",
     "output_type": "stream",
     "text": [
      "[[ 30.70113457 -23.02585093  23.02585093 ...  23.02585093 -23.02585093\n",
      "   23.02585093]\n",
      " [-23.02585093  27.63102112 -23.02585093 ... -23.02585093  23.02585093\n",
      "  -23.02585093]\n",
      " [ 23.02585093 -23.02585093  26.31525821 ...  23.02585093 -23.02585093\n",
      "   23.02585093]\n",
      " ...\n",
      " [ 23.02585093 -23.02585093  23.02585093 ...  23.26822831 -23.02585093\n",
      "   23.02585093]\n",
      " [-23.02585093  23.02585093 -23.02585093 ... -23.02585093  23.26323084\n",
      "  -23.02585093]\n",
      " [ 23.02585093 -23.02585093  23.02585093 ...  23.02585093 -23.02585093\n",
      "   23.25843528]]\n"
     ]
    }
   ],
   "source": [
    "overlap_matrix = np.zeros((n-1,n-1))\n",
    "for l in range(n-1):\n",
    "    for m in range(n-1):\n",
    "        approx_overlap = np.dot(b(l) * b(m), weights) * L * 0.5\n",
    "        if abs(approx_overlap) < epsilon:\n",
    "            approx_overlap = 0\n",
    "        overlap_matrix[l, m] = approx_overlap\n",
    "print(overlap_matrix)\n",
    "# same as original overlap, except without the first row and column"
   ]
  },
  {
   "cell_type": "markdown",
   "id": "9b816251",
   "metadata": {},
   "source": [
    "PE: \n",
    "$$\n",
    "\\int_{-1}^{1} P_l \\frac{-Z}{\\frac{L}{2}(y + 1)} P_m \\frac{L}{2} dy \\\n",
    "= \\int_{-1}^{1} P_l \\frac{-Z}{y + 1} P_m dy\n",
    "$$"
   ]
  },
  {
   "cell_type": "code",
   "execution_count": 4,
   "id": "c908961a",
   "metadata": {},
   "outputs": [
    {
     "name": "stdout",
     "output_type": "stream",
     "text": [
      "[[-2.          2.         -2.         ... -2.          2.\n",
      "  -2.        ]\n",
      " [ 2.         -3.          3.         ...  3.         -3.\n",
      "   3.        ]\n",
      " [-2.          3.         -3.66666667 ... -3.66666667  3.66666667\n",
      "  -3.66666667]\n",
      " ...\n",
      " [-2.          3.         -3.66666667 ... -8.87592768  8.87592768\n",
      "  -8.87592768]\n",
      " [ 2.         -3.          3.66666667 ...  8.87592768 -8.91759435\n",
      "   8.91759435]\n",
      " [-2.          3.         -3.66666667 ... -8.87592768  8.91759435\n",
      "  -8.95841068]]\n"
     ]
    }
   ],
   "source": [
    "pe_matrix = np.zeros((n-1, n-1))\n",
    "for l in range(n-1):\n",
    "    for m in range(n-1):\n",
    "        approx_pe = np.dot(b(l) * b(m) / (roots + 1), weights) * -Z\n",
    "        if abs(approx_pe) < epsilon:\n",
    "            approx_pe = 0\n",
    "        pe_matrix[l, m] = approx_pe\n",
    "print(pe_matrix)"
   ]
  },
  {
   "cell_type": "code",
   "execution_count": 5,
   "id": "96accbf8",
   "metadata": {},
   "outputs": [
    {
     "name": "stdout",
     "output_type": "stream",
     "text": [
      "[[8.68588964e-02 0.00000000e+00 8.68588964e-02 ... 8.68588964e-02\n",
      "  0.00000000e+00 8.68588964e-02]\n",
      " [0.00000000e+00 2.60576689e-01 0.00000000e+00 ... 0.00000000e+00\n",
      "  2.60576689e-01 0.00000000e+00]\n",
      " [8.68588964e-02 0.00000000e+00 5.21153378e-01 ... 5.21153378e-01\n",
      "  0.00000000e+00 5.21153378e-01]\n",
      " ...\n",
      " [8.68588964e-02 0.00000000e+00 5.21153378e-01 ... 9.79768351e+01\n",
      "  0.00000000e+00 9.79768351e+01]\n",
      " [0.00000000e+00 2.60576689e-01 0.00000000e+00 ... 0.00000000e+00\n",
      "  1.02146062e+02 0.00000000e+00]\n",
      " [8.68588964e-02 0.00000000e+00 5.21153378e-01 ... 9.79768351e+01\n",
      "  0.00000000e+00 1.06402148e+02]]\n"
     ]
    }
   ],
   "source": [
    "ke_matrix = np.zeros((n-1, n-1))\n",
    "for l in range(n-1):\n",
    "    for m in range(n-1):\n",
    "        approx_ke = np.dot(db(l) * db(m), weights) / L\n",
    "        if abs(approx_ke) < epsilon:\n",
    "            approx_ke = 0\n",
    "        ke_matrix[l, m] = approx_ke\n",
    "print(ke_matrix)"
   ]
  },
  {
   "cell_type": "code",
   "execution_count": 6,
   "id": "5dc93f9a",
   "metadata": {},
   "outputs": [
    {
     "name": "stdout",
     "output_type": "stream",
     "text": [
      "[[0. 0. 0. ... 0. 0. 0.]\n",
      " [0. 0. 0. ... 0. 0. 0.]\n",
      " [0. 0. 0. ... 0. 0. 0.]\n",
      " ...\n",
      " [0. 0. 0. ... 0. 0. 0.]\n",
      " [0. 0. 0. ... 0. 0. 0.]\n",
      " [0. 0. 0. ... 0. 0. 0.]]\n"
     ]
    }
   ],
   "source": [
    "angular_ke_matrix = np.zeros((n-1, n-1))\n",
    "for l in range(n-1):\n",
    "    for m in range(n-1):\n",
    "        approx = np.dot(P[l] * P[m] / (1 + roots)**2, weights) * qn_l * (qn_l + 1) / L\n",
    "        if abs(approx) < epsilon:\n",
    "            approx = 0\n",
    "        angular_ke_matrix[l, m] = approx\n",
    "print(angular_ke_matrix)"
   ]
  },
  {
   "cell_type": "code",
   "execution_count": 7,
   "id": "bdf820ce",
   "metadata": {},
   "outputs": [
    {
     "name": "stdout",
     "output_type": "stream",
     "text": [
      "[ 0.0226334  -0.09842267  0.22561023 -0.37680173  0.52036569 -0.63808356\n",
      "  0.72904312 -0.80285454  0.87074982 -0.94032358  1.01464372 -1.09372268\n",
      "  1.17631051 -1.26105349  1.346954   -1.43341226  1.52011545 -1.60691777\n",
      "  1.69375735 -1.78061002  1.86746702 -1.95432537  2.04118411 -2.12804297\n",
      "  2.21490186 -2.30176075  2.38861964 -2.47547854  2.56233744 -2.64919633\n",
      "  2.73605523 -2.82291413  2.90977302 -2.99663192  3.08349081 -3.17034971\n",
      "  3.25720861 -3.3440675   3.4309264  -3.51778529  3.60464419 -3.69150309\n",
      "  3.77836198 -3.86522088  3.95207978 -4.03893867  4.12579757 -4.21265646\n",
      "  4.29951536]\n"
     ]
    },
    {
     "data": {
      "text/plain": [
       "(0.47566572427909065, 0.014872513059998156)"
      ]
     },
     "execution_count": 7,
     "metadata": {},
     "output_type": "execute_result"
    }
   ],
   "source": [
    "#obtaining coefficients\n",
    "phi = lambda r: r * (math.e)**(-Z * r)\n",
    "c = np.zeros(n-1)\n",
    "for l in range(n-1):\n",
    "    c[l] = ((2*(l+1)+1)/2) * np.dot(phi(L * 0.5 * (roots + 1)) * b(l), weights)\n",
    "print(c)\n",
    "fit = lambda x : np.dot(eval_legendre(range(n-1), 2 * x/L -1), c)\n",
    "fit(6),phi(6)"
   ]
  },
  {
   "cell_type": "code",
   "execution_count": 8,
   "id": "3cf0eb43",
   "metadata": {},
   "outputs": [
    {
     "data": {
      "text/plain": [
       "[<matplotlib.lines.Line2D at 0x1457692ed70>,\n",
       " <matplotlib.lines.Line2D at 0x1457692eda0>]"
      ]
     },
     "execution_count": 8,
     "metadata": {},
     "output_type": "execute_result"
    },
    {
     "data": {
      "image/png": "[encoded data removed]",
      "text/plain": [
       "<Figure size 640x480 with 1 Axes>"
      ]
     },
     "metadata": {},
     "output_type": "display_data"
    }
   ],
   "source": [
    "# phi(X) plotted with fit, showing very small error\n",
    "X = np.linspace(start=0,stop=L,num=51)\n",
    "F = [fit(x) for x in X]\n",
    "plt.plot(X,F,\"r\",X,phi(X),\"b--\")"
   ]
  },
  {
   "cell_type": "code",
   "execution_count": 9,
   "id": "a1040fc4",
   "metadata": {},
   "outputs": [
    {
     "name": "stdout",
     "output_type": "stream",
     "text": [
      "271542.8735052032 213762.9854445303 0.0 -88374.98750513881\n",
      "0.7872163341470798 0.0 -0.3254550059235688 0.461761328223511\n"
     ]
    }
   ],
   "source": [
    "# numerical overlap computation\n",
    "overlap_estimate = np.dot(c, np.dot(overlap_matrix, c))\n",
    "ke_integral = np.dot(c, np.dot(ke_matrix, c))\n",
    "angular_ke_integral = np.dot(c, np.dot(angular_ke_matrix, c))\n",
    "pe_integral = np.dot(c, np.dot(pe_matrix, c))\n",
    "\n",
    "ke_approx = ke_integral / overlap_estimate\n",
    "pe_approx = pe_integral / overlap_estimate\n",
    "angular_ke_approx = angular_ke_integral / overlap_estimate\n",
    "\n",
    "energy_approx = ke_approx + angular_ke_approx + pe_approx\n",
    "print(overlap_estimate, ke_integral, angular_ke_integral, pe_integral)\n",
    "print(ke_approx, angular_ke_approx, pe_approx, energy_approx)"
   ]
  },
  {
   "cell_type": "code",
   "execution_count": 10,
   "id": "09bbea5d",
   "metadata": {},
   "outputs": [],
   "source": [
    "def energy(c):\n",
    "    overlap_integral = np.dot(c, np.dot(overlap_matrix, c))\n",
    "    ke_integral = np.dot(c, np.dot(ke_matrix, c))\n",
    "    pe_integral = np.dot(c, np.dot(pe_matrix, c))\n",
    "#    angular_ke_integral = np.dot(c, np.dot(angular_ke_matrix, c))\n",
    "    return (ke_integral + pe_integral) / overlap_integral"
   ]
  },
  {
   "cell_type": "code",
   "execution_count": 11,
   "id": "df0f7479",
   "metadata": {},
   "outputs": [],
   "source": [
    "def gradient(c):\n",
    "    h_matrix = ke_matrix + pe_matrix # + angular_ke_matrix\n",
    "    integral = np.dot(h_matrix - energy(c) * overlap_matrix, c)\n",
    "    overlap_integral = np.dot(c, np.dot(overlap_matrix, c))\n",
    "#    print(energy(c) * overlap_matrix, overlap_integral, integral, h_matrix)\n",
    "    return 2 * integral / overlap_integral"
   ]
  },
  {
   "cell_type": "code",
   "execution_count": 12,
   "id": "21e4141a",
   "metadata": {},
   "outputs": [
    {
     "data": {
      "text/plain": [
       "array([-5.00000000e-01, -1.25001216e-01, -5.73745388e-02, -2.86094021e-02,\n",
       "        2.79141797e-02,  1.08999965e-01,  2.11426098e-01,  3.34188580e-01,\n",
       "        4.76762296e-01,  6.38827128e-01,  8.20172869e-01,  1.02065480e+00,\n",
       "        1.24016966e+00,  1.47864163e+00,  1.73601360e+00,  2.01224160e+00,\n",
       "        2.30729114e+00,  2.62113469e+00,  2.95374995e+00,  3.30511860e+00,\n",
       "        3.67522539e+00,  4.06405754e+00,  4.47160418e+00,  4.89785601e+00,\n",
       "        5.34280591e+00,  5.80644715e+00,  6.28888761e+00,  6.79007806e+00,\n",
       "        7.31464162e+00,  7.85827720e+00,  8.47908972e+00,  9.10077003e+00,\n",
       "        1.00030922e+01,  1.07885476e+01,  1.22366963e+01,  1.33222068e+01,\n",
       "        1.56691247e+01,  1.73226003e+01,  2.12181017e+01,  2.40600416e+01,\n",
       "        3.09293649e+01,  3.65929357e+01,  5.01665427e+01,  6.38937592e+01,\n",
       "        9.69585037e+01,  1.42541256e+02,  2.66835178e+02,  5.72185080e+02,\n",
       "        2.39025056e+03])"
      ]
     },
     "execution_count": 12,
     "metadata": {},
     "output_type": "execute_result"
    }
   ],
   "source": [
    "# this finds all eigenstates possible... first one is ground state\n",
    "scipy.linalg.eigh(ke_matrix + pe_matrix, overlap_matrix, eigvals_only=True)"
   ]
  },
  {
   "cell_type": "code",
   "execution_count": 13,
   "id": "90d98e2b",
   "metadata": {},
   "outputs": [
    {
     "data": {
      "text/plain": [
       "array([-0.01006707,  0.01080086, -0.011224  ,  0.01149588, -0.01162409,\n",
       "        0.01170665, -0.0116581 ,  0.01162629, -0.01143919,  0.01132847,\n",
       "       -0.01101899,  0.01085163, -0.01042778,  0.0102209 , -0.00968737,\n",
       "        0.00945592, -0.00881599,  0.00857401, -0.00783044,  0.00759172,\n",
       "       -0.00674717,  0.00652554, -0.00558284,  0.00539241, -0.00435474,\n",
       "        0.00421   , -0.00308096,  0.00299686, -0.00178055,  0.00177258,\n",
       "       -0.00047364,  0.00055783,  0.00081853, -0.00062557,  0.00207355,\n",
       "       -0.00175459,  0.00326778, -0.00280499,  0.00437635, -0.00375127,\n",
       "        0.00537315, -0.00456669,  0.00623077, -0.00522319,  0.00692056,\n",
       "       -0.00569148,  0.00741253, -0.00594093,  0.00767543])"
      ]
     },
     "execution_count": 13,
     "metadata": {},
     "output_type": "execute_result"
    }
   ],
   "source": [
    "gradient(c)"
   ]
  },
  {
   "cell_type": "code",
   "execution_count": 14,
   "id": "dda33758",
   "metadata": {},
   "outputs": [
    {
     "name": "stdout",
     "output_type": "stream",
     "text": [
      "     fun: -0.49999974399851865\n",
      "     jac: array([ 1.08264935e-06, -1.72767925e-06, -6.21404822e-07,  6.75320741e-06,\n",
      "       -7.91956284e-06, -6.40671579e-07,  5.00293441e-06, -3.77587122e-06,\n",
      "       -1.23886766e-06,  1.85231412e-06, -3.12509856e-06, -2.37343206e-07,\n",
      "       -1.23964882e-06, -1.31053561e-06, -2.22067348e-06, -8.96638267e-07,\n",
      "       -2.78276074e-06, -1.48133874e-06, -2.91157189e-06, -2.00716679e-06,\n",
      "       -3.23020916e-06, -2.40198482e-06, -3.51499664e-06, -2.90007285e-06,\n",
      "       -3.62862385e-06, -3.40317741e-06, -3.64059947e-06, -3.88512954e-06,\n",
      "       -3.51451462e-06, -4.33511451e-06, -3.20673462e-06, -4.71921603e-06,\n",
      "       -2.71750311e-06, -5.00739814e-06, -2.03876948e-06, -5.19061592e-06,\n",
      "       -1.18807752e-06, -5.27646381e-06, -1.98618213e-07, -5.29178067e-06,\n",
      "        8.67944755e-07, -5.27193942e-06,  1.92746461e-06, -5.24662818e-06,\n",
      "        2.87777462e-06, -5.23241324e-06,  3.60601563e-06, -5.22705456e-06,\n",
      "        4.00929640e-06])\n",
      " message: 'Optimization terminated successfully.'\n",
      "    nfev: 479\n",
      "     nit: 153\n",
      "    njev: 479\n",
      "  status: 0\n",
      " success: True\n",
      "       x: array([ 1.74211876e+01, -1.92135068e+01,  1.26830219e+01, -2.25673459e+00,\n",
      "       -6.92119111e+00,  1.18888075e+01, -1.25336094e+01,  1.04294546e+01,\n",
      "       -7.37577216e+00,  4.58611586e+00, -2.55557239e+00,  1.29190456e+00,\n",
      "       -5.98541057e-01,  2.57041119e-01, -1.03904198e-01,  3.96910306e-02,\n",
      "       -1.42012158e-02,  4.53099986e-03, -1.33010130e-03,  2.78225347e-04,\n",
      "       -1.67929197e-04,  7.31737887e-05, -1.54463929e-04, -2.07679363e-05,\n",
      "       -8.33925018e-05, -4.08789376e-05, -9.18344648e-05, -4.33441455e-05,\n",
      "       -1.05665367e-04, -5.79174033e-05, -9.30314553e-05, -6.81264917e-05,\n",
      "       -8.59336395e-05, -6.55941246e-05, -6.74733761e-05, -5.49576165e-05,\n",
      "       -4.40265415e-05, -3.68452271e-05, -1.09417827e-05, -1.75225687e-05,\n",
      "        2.75526512e-05, -3.32500495e-06,  6.85584452e-05,  3.53302066e-06,\n",
      "        1.08585591e-04,  2.18326900e-06,  1.39779828e-04, -1.74923546e-07,\n",
      "        1.58024726e-04])\n"
     ]
    }
   ],
   "source": [
    "np.random.seed(2023)\n",
    "c0 = np.random.random(n-1)\n",
    "result = scipy.optimize.minimize(energy, c0, jac=gradient, method=\"CG\")\n",
    "print(result)"
   ]
  },
  {
   "cell_type": "code",
   "execution_count": 15,
   "id": "6da2773f",
   "metadata": {},
   "outputs": [
    {
     "data": {
      "text/plain": [
       "'\\nnp.random.seed(2023)\\nc0 = np.random.random(n)\\nconjugate_gradient(energy, gradient, c0)\\n'"
      ]
     },
     "execution_count": 15,
     "metadata": {},
     "output_type": "execute_result"
    }
   ],
   "source": [
    "def conjugate_gradient(function, gradient, c0):\n",
    "    p = 1\n",
    "    epsilon = 1e-3 # threshold for error\n",
    "    position = c0\n",
    "    r = -gradient(position)\n",
    "    d = r\n",
    "    old_r = r\n",
    "\n",
    "    # calculating step size\n",
    "    def diff(f, x, h=1e-3):\n",
    "        return (f(x+h) - f(x-h)) / (2*h)\n",
    "    \n",
    "    def diff_2nd(f, x, h=1e-3):\n",
    "        return (diff(f, x+h) - diff(f, x-h)) / (2*h)\n",
    "    \n",
    "    while np.linalg.norm(r) > epsilon:\n",
    "        line_function = lambda s: function(position + s * d)\n",
    "        diff_line_function = diff(line_function, 0)\n",
    "        diff_2nd_line_function = diff_2nd(line_function, 0)\n",
    "        step_size = - diff_line_function / diff_2nd_line_function\n",
    "\n",
    "        position += step_size * d\n",
    "        old_r = r\n",
    "        r = -gradient(position)\n",
    "        beta = np.dot(r, r - old_r)/np.dot(old_r, old_r)\n",
    "        d = r + beta * d\n",
    "#        print(p, function(position), np.linalg.norm(r), step_size, diff_line_function, diff_2nd_line_function)\n",
    "        p += 1\n",
    "        \n",
    "    return position, function(position), gradient(position)\n",
    "\n",
    "'''\n",
    "np.random.seed(2023)\n",
    "c0 = np.random.random(n)\n",
    "conjugate_gradient(energy, gradient, c0)\n",
    "'''"
   ]
  },
  {
   "cell_type": "code",
   "execution_count": 16,
   "id": "13f817a9",
   "metadata": {},
   "outputs": [
    {
     "name": "stdout",
     "output_type": "stream",
     "text": [
      "6545.332937412755 3270.507757629286 0.0 -6543.172550720736\n",
      "0.4996701907912503 0.0 -0.999669934789769 -0.49999974399851865\n"
     ]
    }
   ],
   "source": [
    "cc = result.x\n",
    "\n",
    "overlap_estimate = np.dot(cc, np.dot(overlap_matrix, cc))\n",
    "ke_integral = np.dot(cc, np.dot(ke_matrix, cc))\n",
    "angular_ke_integral = np.dot(cc, np.dot(angular_ke_matrix, cc))\n",
    "pe_integral = np.dot(cc, np.dot(pe_matrix, cc))\n",
    "\n",
    "ke_approx = ke_integral / overlap_estimate\n",
    "pe_approx = pe_integral / overlap_estimate\n",
    "angular_ke_approx = angular_ke_integral / overlap_estimate\n",
    "\n",
    "energy_approx = ke_approx + angular_ke_approx + pe_approx\n",
    "print(overlap_estimate, ke_integral, angular_ke_integral, pe_integral)\n",
    "print(ke_approx, angular_ke_approx, pe_approx, energy_approx)"
   ]
  },
  {
   "cell_type": "code",
   "execution_count": 17,
   "id": "3c9ee827",
   "metadata": {},
   "outputs": [],
   "source": [
    "# integrated function that does all the calculations together\n",
    "def setup(n, Z=1, epsilon=1e-6):\n",
    "\n",
    "    roots, weights = roots_legendre(n)\n",
    "\n",
    "    # dropping P_0, subtracting multiples of P_0 from basis functions\n",
    "    P = np.array([eval_legendre(i + 1, roots) - (-1)**i for i in range(n + 1)])\n",
    "\n",
    "    # shifting by a constant does not effect derivatives\n",
    "    # note now P[i] <-> dP[i+1]\n",
    "    dP = np.zeros((n+2, n))\n",
    "    dP[1] = np.ones(n)\n",
    "    for i in range(2,n+2): # upper bound now n+1 due to starting from P_1\n",
    "        dP[i] = (2*i-1) * P[i-1] + dP[i-2]\n",
    "    \n",
    "    overlap_matrix = np.zeros((n,n))\n",
    "    for l in range (n):\n",
    "        for m in range (n):\n",
    "            approx_overlap = np.dot(P[l]*P[m], weights) * L * 0.5\n",
    "            if abs(approx_overlap) < epsilon:\n",
    "                approx_overlap = 0\n",
    "            overlap_matrix[l, m] = approx_overlap\n",
    "\n",
    "    pe_matrix = np.zeros((n, n))\n",
    "    for l in range (n):\n",
    "        for m in range (n):\n",
    "            approx_pe = -Z * np.dot(P[l] * P[m] / (roots + 1), weights)\n",
    "            if abs(approx_pe) < epsilon:\n",
    "                approx_pe = 0\n",
    "            pe_matrix[l, m] = approx_pe\n",
    "\n",
    "    ke_matrix = np.zeros((n, n))\n",
    "    for l in range (n):\n",
    "        for m in range (n):\n",
    "            approx_ke = np.dot(dP[l+1] * dP[m+1], weights) / L # note the +1\n",
    "            if abs(approx_ke) < epsilon:\n",
    "                approx_ke = 0\n",
    "            ke_matrix[l, m] = approx_ke\n",
    "    \n",
    "    # from exact phi\n",
    "    # now inaccurate due to new basis\n",
    "    phi = lambda r: r * (math.e)**(-Z * r)\n",
    "    c_exact = np.zeros(n)\n",
    "    for l in range(n):\n",
    "        c_exact[l] = ((2*l+1)/2) * np.dot(phi(L * 0.5 * (roots + 1)) * P[l], weights)\n",
    "    \n",
    "    def energy(c):\n",
    "        overlap_integral = np.dot(c, np.dot(overlap_matrix, c))\n",
    "        ke_integral = np.dot(c, np.dot(ke_matrix, c))\n",
    "        pe_integral = np.dot(c, np.dot(pe_matrix, c))\n",
    "        return (ke_integral + pe_integral) / overlap_integral\n",
    "\n",
    "    def gradient(c):\n",
    "        h_matrix = ke_matrix + pe_matrix\n",
    "        integral = np.dot(h_matrix - energy(c) * overlap_matrix, c)\n",
    "        overlap_integral = np.dot(c, np.dot(overlap_matrix, c))\n",
    "        return 2 * integral / overlap_integral\n",
    "\n",
    "    np.random.seed(1000)\n",
    "    c0 = np.random.random(n)\n",
    "    result = scipy.optimize.minimize(energy, c0, jac=gradient, method=\"CG\")\n",
    "\n",
    "    return energy(c_exact), result.fun"
   ]
  },
  {
   "cell_type": "code",
   "execution_count": 18,
   "id": "729a266a",
   "metadata": {},
   "outputs": [
    {
     "data": {
      "text/plain": [
       "(1634.7338984071116, -1.4430867552647846)"
      ]
     },
     "execution_count": 18,
     "metadata": {},
     "output_type": "execute_result"
    }
   ],
   "source": [
    "setup(50)"
   ]
  },
  {
   "cell_type": "code",
   "execution_count": 19,
   "id": "881ede9a",
   "metadata": {},
   "outputs": [
    {
     "data": {
      "image/png": "[encoded data removed]",
      "text/plain": [
       "<Figure size 500x300 with 1 Axes>"
      ]
     },
     "metadata": {},
     "output_type": "display_data"
    }
   ],
   "source": [
    "X = []\n",
    "e_exact = []\n",
    "e_approx = []\n",
    "\n",
    "for i in range(1,17,1):\n",
    "    exact, approx = setup(i)\n",
    "    X.append(i)\n",
    "    e_exact.append(exact)\n",
    "    e_approx.append(approx)\n",
    "\n",
    "\n",
    "fig, ax1 = plt.subplots(figsize=(5, 3))\n",
    "ax1.set_xlabel(r'n')\n",
    "ax1.set_ylabel(r'E')\n",
    "\n",
    "colors = plt.cm.viridis([.5, .8])\n",
    "\n",
    "p1 = ax1.plot(X, e_exact, color=colors[0], ls='-', lw=1, label='Analytical')\n",
    "p2 = ax1.plot(X, e_approx, color=colors[1], ls='-', lw=1, label='Approximated')\n",
    "\n",
    "ax1.legend(handles=p1+p2, loc='best')\n",
    "\n",
    "plt.savefig('fig/hatom-fix.png', bbox_inches='tight', dpi=300)"
   ]
  }
 ],
 "metadata": {
  "kernelspec": {
   "display_name": "Python 3 (ipykernel)",
   "language": "python",
   "name": "python3"
  },
  "language_info": {
   "codemirror_mode": {
    "name": "ipython",
    "version": 3
   },
   "file_extension": ".py",
   "mimetype": "text/x-python",
   "name": "python",
   "nbconvert_exporter": "python",
   "pygments_lexer": "ipython3",
   "version": "3.10.7"
  }
 },
 "nbformat": 4,
 "nbformat_minor": 5
}
